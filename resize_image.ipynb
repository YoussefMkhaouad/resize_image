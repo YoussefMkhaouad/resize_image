{
 "cells": [
  {
   "cell_type": "code",
   "execution_count": 4,
   "metadata": {},
   "outputs": [
    {
     "name": "stdout",
     "output_type": "stream",
     "text": [
      "Dans quel dossier sont les images ? C:/Users/ysf/Desktop/stage_PFE/face_dataset\n",
      "entrez le largeur : 500\n",
      "entrez le hauteur : 500\n",
      "bill.jpg redimensionnée…\n",
      "images.jfif redimensionnée…\n",
      "inesta.jpg redimensionnée…\n",
      "it.jpg redimensionnée…\n",
      "messi.jpg redimensionnée…\n",
      "morata.jpg redimensionnée…\n",
      "puyol.jfif redimensionnée…\n",
      "sba.jpg redimensionnée…\n",
      "stegen.jpeg redimensionnée…\n",
      "subject01.gif redimensionnée…\n",
      "xavi.jpg redimensionnée…\n",
      "Travail terminé ! 11 images redimensionnées.\n"
     ]
    }
   ],
   "source": [
    "from PIL import Image\n",
    "from os import listdir\n",
    "from os.path import isfile, join\n",
    "\n",
    "mypath = input(\"Dans quel dossier sont les images ? \")\n",
    "imageFiles = [ f for f in listdir(mypath) if isfile(join(mypath,f)) and (f.endswith((\"G\",\"jif\",\"jfif\")) or f.endswith((\"g\",\"gif\"))) ]\n",
    "width_ = int(input(\"entrez le largeur : \"))\n",
    "height_=int(input(\"entrez le hauteur : \"))\n",
    "\n",
    "\n",
    "for im in imageFiles :\n",
    "    im1 = Image.open(join(mypath,im))\n",
    "    originalWidth, originalHeight = im1.size\n",
    "    \n",
    "    width = width_\n",
    "    height = height_\n",
    "  \n",
    "\n",
    "    im2 = im1.resize((width, height), Image.ANTIALIAS) \n",
    "    im2.save(join('C:/Users/ysf/Desktop/stage_PFE/face_dataset/new_face', \"\".join([str(width),\"x\",str(height),\"_\",im])))\n",
    "    print (im, \"redimensionnée…\")\n",
    "print (\"Travail terminé !\", len(imageFiles), \"images redimensionnées.\")"
   ]
  },
  {
   "cell_type": "code",
   "execution_count": 8,
   "metadata": {},
   "outputs": [],
   "source": []
  }
 ],
 "metadata": {
  "kernelspec": {
   "display_name": "Python 3",
   "language": "python",
   "name": "python3"
  },
  "language_info": {
   "codemirror_mode": {
    "name": "ipython",
    "version": 3
   },
   "file_extension": ".py",
   "mimetype": "text/x-python",
   "name": "python",
   "nbconvert_exporter": "python",
   "pygments_lexer": "ipython3",
   "version": "3.7.6"
  }
 },
 "nbformat": 4,
 "nbformat_minor": 4
}
